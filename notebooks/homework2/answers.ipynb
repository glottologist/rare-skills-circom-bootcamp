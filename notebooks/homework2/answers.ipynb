{
 "cells": [
  {
   "cell_type": "markdown",
   "id": "5c58ddd9-341b-4ebd-9068-22d53a27ada7",
   "metadata": {},
   "source": [
    "Q1. Find the elements in a finite field that are congruent to the following values:\n",
    "\n",
    "- -1\n",
    "- -4\n",
    "- -160\n",
    "- 500"
   ]
  },
  {
   "cell_type": "code",
   "execution_count": 2,
   "id": "5c8e0769-2165-4f21-9cc6-0e24c8375bf0",
   "metadata": {
    "tags": []
   },
   "outputs": [
    {
     "name": "stdout",
     "output_type": "stream",
     "text": [
      "70 is congruent to -1\n",
      "67 is congruent to -4\n",
      "53 is congruent to -160\n",
      "3 is congruent to 500\n"
     ]
    }
   ],
   "source": [
    "con1=-1 % 71\n",
    "con2=-4 % 71\n",
    "con3=-160 % 71\n",
    "con4=500 % 71\n",
    "\n",
    "print(f\"{con1} is congruent to -1\")\n",
    "print(f\"{con2} is congruent to -4\")\n",
    "print(f\"{con3} is congruent to -160\")\n",
    "print(f\"{con4} is congruent to 500\")"
   ]
  },
  {
   "cell_type": "markdown",
   "id": "c554ce66-3e00-4155-87bb-4729417fbd27",
   "metadata": {},
   "source": [
    "Q2. Find the elements that are congruent to a = 5/6, b = 11/12, and c = 21/12\n",
    "\n",
    "Verify your answer by checking that a + b = c (in the finite field)"
   ]
  },
  {
   "cell_type": "code",
   "execution_count": 11,
   "id": "1e251bb0-b6c1-4918-948c-ac119d91781e",
   "metadata": {
    "tags": []
   },
   "outputs": [
    {
     "name": "stdout",
     "output_type": "stream",
     "text": [
      "modular inverse of 6 is 12\n",
      "a 60\n",
      "modular inverse of 12 is 6\n",
      "b 66\n",
      "modular inverse of 12 is 6\n",
      "c 55\n"
     ]
    }
   ],
   "source": [
    "p=71\n",
    "a_dem_inv=pow(6, -1, p)\n",
    "print(f\"modular inverse of 6 is {a_dem_inv}\".format(a_dem_inv))\n",
    "a=(5 * a_dem_inv) % p\n",
    "print(f\"a {a}\")\n",
    "\n",
    "\n",
    "b_dem_inv=pow(12, -1, p)\n",
    "print(f\"modular inverse of 12 is {b_dem_inv}\")\n",
    "b=(11 * b_dem_inv) % p\n",
    "print(f\"b {}\".format(b))\n",
    "\n",
    "c_dem_inv=pow(12, -1, p)\n",
    "print(f\"modular inverse of 12 is {c_dem_inv}\")\n",
    "c=(21 * c_dem_inv) % p\n",
    "print(f\"c {}\".format(c))\n",
    "\n",
    "c_inf=(a+b) % p\n",
    "\n",
    "assert c==c_inf"
   ]
  },
  {
   "cell_type": "markdown",
   "id": "8813291b-f106-475c-9f31-c503503d8058",
   "metadata": {},
   "source": [
    "Q3. Find the elements that are congruent to a = 2/3, b = 1/2, and c = 1/3.\n",
    "\n",
    "Verify your answer by checking that a * b = c (in the finite field)"
   ]
  },
  {
   "cell_type": "code",
   "execution_count": 4,
   "id": "c958a638-7c64-4686-85ad-a6ec1d3fe4b4",
   "metadata": {
    "tags": []
   },
   "outputs": [
    {
     "name": "stdout",
     "output_type": "stream",
     "text": [
      "modular inverse of 3 is 24\n",
      "a 48\n",
      "modular inverse of 2 is 36\n",
      "b 36\n",
      "modular inverse of 3 is 24\n",
      "c 24\n"
     ]
    }
   ],
   "source": [
    "p=71\n",
    "a_dem_inv=pow(3, -1, p)\n",
    "print(f\"modular inverse of 3 is {a_dem_inv}\")\n",
    "a=(2 * a_dem_inv) % p\n",
    "print(f\"a {a}\")\n",
    "\n",
    "\n",
    "b_dem_inv=pow(2, -1, p)\n",
    "print(f\"modular inverse of 2 is {b_dem_inv}\")\n",
    "b=(1 * b_dem_inv) % p\n",
    "print(f\"b {b}\")\n",
    "\n",
    "c_dem_inv=pow(3, -1, p)\n",
    "print(f\"modular inverse of 3 is {c_dem_inv}\")\n",
    "c=(1 * c_dem_inv) % p\n",
    "print(f\"c {c}\")\n",
    "\n",
    "c_inf=(a*b) % p\n",
    "\n",
    "assert c==c_inf"
   ]
  },
  {
   "cell_type": "markdown",
   "id": "8efb181e-3430-4304-872c-b2ffca6fc82a",
   "metadata": {},
   "source": [
    "Q4. The inverse of a 2 x 2 matrix $A$ is\n",
    "\n",
    "$$\n",
    "A^{-1}=\\frac{1}{\\text{det}}\\begin{bmatrix}d & -b\\\\-c & a\\end{bmatrix}\n",
    "$$\n",
    "\n",
    "where $A$ is\n",
    "\n",
    "$$\n",
    "A = \\begin{bmatrix}a & b\\\\c & d\\end{bmatrix}\n",
    "$$\n",
    "\n",
    "And the determinant det is\n",
    "\n",
    "$$\n",
    "\\text{det}=a \\times d-b\\times c\n",
    "$$\n",
    "\n",
    "Compute the inverse of the following matrix in the finite field:\n",
    "\n",
    "$$\n",
    "\\begin{bmatrix}1 & 1\\\\1 & 4\\end{bmatrix}\n",
    "$$\n",
    "\n",
    "Verify your answer by checking that\n",
    "\n",
    "$$\n",
    "AA^{-1}=I\n",
    "$$\n",
    "\n",
    "Where $I$ is the identity matrix."
   ]
  },
  {
   "cell_type": "code",
   "execution_count": 5,
   "id": "9069c5a8-8571-4085-8bee-cc7bfcaf6112",
   "metadata": {
    "tags": []
   },
   "outputs": [
    {
     "name": "stdout",
     "output_type": "stream",
     "text": [
      "A [[1 1]\n",
      " [1 4]]\n",
      "det 24\n",
      "A_inv [[25 47]\n",
      " [47 24]]\n",
      "I_inf [[1 0]\n",
      " [0 1]]\n",
      "I [[1 0]\n",
      " [0 1]]\n"
     ]
    }
   ],
   "source": [
    "import numpy as np\n",
    "\n",
    "p=71\n",
    "a=1\n",
    "b=1\n",
    "c=1\n",
    "d=4\n",
    "\n",
    "A = np.array([[a, b], [c, d]])\n",
    "print(f\"A {A}\")\n",
    "\n",
    "det_raw = (a * d - b * c) % p\n",
    "det_m_inv=pow(det_raw,-1,p)\n",
    "print(f\"det {det_m_inv}\")\n",
    "\n",
    "inv_a = (a * det_m_inv) %p\n",
    "inv_b = (-b * det_m_inv) %p\n",
    "inv_c = (-c * det_m_inv) %p\n",
    "inv_d = (d * det_m_inv) %p\n",
    "\n",
    "A_inv = np.array([[inv_d, inv_b], [inv_c, inv_a]])\n",
    "print(f\"A_inv {A_inv}\")\n",
    "\n",
    "I_inf = (A @ A_inv) % p\n",
    "\n",
    "print(f\"I_inf {I_inf}\")\n",
    "I = np.array([[1,0],[0,1]])\n",
    "print(f\"I {I}\")\n",
    "\n",
    "assert np.array_equal(I_inf,I)\n",
    "\n"
   ]
  },
  {
   "cell_type": "markdown",
   "id": "068ae4dd-305f-434b-aef4-db38aa3b676a",
   "metadata": {
    "tags": []
   },
   "source": [
    "5. What is the modular square root of 12?\n",
    "\n",
    "Verify your answer by checking that x * x = 12 (mod 71)\n",
    "\n",
    "Use brute force to find the answer (in Python)"
   ]
  },
  {
   "cell_type": "code",
   "execution_count": 31,
   "id": "330f34f8-c802-49e1-8216-ed62bac98d69",
   "metadata": {
    "tags": []
   },
   "outputs": [
    {
     "name": "stdout",
     "output_type": "stream",
     "text": [
      "x = 15\n",
      "x = 56\n"
     ]
    }
   ],
   "source": [
    "for x in range(71):\n",
    "    if (x * x) % 71 == 12:\n",
    "        print(f\"x = {x}\")"
   ]
  },
  {
   "cell_type": "code",
   "execution_count": null,
   "id": "b05a0711-62da-47aa-b345-7abca1f4528a",
   "metadata": {},
   "outputs": [],
   "source": [
    "6. Suppose we have the following polynomials:\n",
    "\n",
    "$$\n",
    "p(x)=52x^2+24x+61\\\\q(x)=40x^2+40x+58\n",
    "$$\n",
    "\n",
    "What is p(x) + q(x)? What is p(x) * q(x)?\n",
    "\n",
    "Use the `galois` library in Python to find the roots of p(x) and q(x).\n",
    "\n",
    "What are the roots of p(x)q(x)?"
   ]
  },
  {
   "cell_type": "code",
   "execution_count": 1,
   "id": "88cd245b-9d95-4f53-82c9-1a90d01f5724",
   "metadata": {
    "tags": []
   },
   "outputs": [
    {
     "name": "stdout",
     "output_type": "stream",
     "text": [
      "p(x) + q(x): 21x^2 + 64x + 48\n",
      "p(x) * q(x): 21x^4 + 58x^3 + 26x^2 + 69x + 59\n",
      "roots of p(x): [34 42]\n",
      "roots of q(x): []\n",
      "roots of p(x)q(x): [34 42]\n"
     ]
    }
   ],
   "source": [
    "import numpy as np\n",
    "import galois as g\n",
    "P = g.GF(71)\n",
    "\n",
    "\n",
    "p = g.Poly([52, 24, 61], field = P)\n",
    "q = g.Poly([40, 40, 58], field = P)\n",
    "s1 = p + q; \n",
    "print(f\"p(x) + q(x): {s1}\")\n",
    "s2 = p * q; \n",
    "print(f\"p(x) * q(x): {s2}\")\n",
    "\n",
    "root_p = p.roots(); print(f\"roots of p(x): {root_p}\")\n",
    "root_q = q.roots(); print(f\"roots of q(x): {root_q}\")\n",
    "root_s2 = s2.roots(); print(f\"roots of p(x)q(x): {root_s2}\")"
   ]
  },
  {
   "cell_type": "markdown",
   "id": "486235a9-c533-4771-9705-6c5f366976e5",
   "metadata": {},
   "source": [
    "7. Find a polynomial f(x) that crosses the points (10, 15), (23, 29).\n",
    "\n",
    "Since these are two points, the polynomial will be of degree 1 and be the equation for a line (y = ax + b).\n",
    "\n",
    "Verify your answer by checking that f(10) = 15 and f(23) = 29."
   ]
  },
  {
   "cell_type": "code",
   "execution_count": 6,
   "id": "07f36b00-aefe-4aeb-a73c-8fcbc3c7ea13",
   "metadata": {
    "tags": []
   },
   "outputs": [
    {
     "name": "stdout",
     "output_type": "stream",
     "text": [
      "The polynomial: 12x + 37\n"
     ]
    }
   ],
   "source": [
    "import galois as g\n",
    "import numpy as np\n",
    "\n",
    "P = g.GF(71)\n",
    "x = P([10, 23])\n",
    "y = P([15, 29])\n",
    "\n",
    "LAG = g.lagrange_poly(x, y)\n",
    "print(f\"The polynomial: {LAG}\")\n",
    "\n",
    "np.testing.assert_equal(LAG(10), P(15))\n",
    "np.testing.assert_equal(LAG(23), P(29))"
   ]
  },
  {
   "cell_type": "markdown",
   "id": "edc01487-e2dd-436b-810f-68883a382711",
   "metadata": {},
   "source": [
    "What is Lagrange interpolation and what does it do?\n",
    "\n",
    "Find a polynomial that crosses through the points (0, 1), (1, 2), (2, 1).\n",
    "\n",
    "Use this Stackoverflow answer as a starting point: https://stackoverflow.com/a/73434775"
   ]
  },
  {
   "cell_type": "markdown",
   "id": "2f52f7b6-7d96-4ef6-a932-6752863561eb",
   "metadata": {},
   "source": [
    "Lagrange interpolation is the technique of reconstructing a polynomial of rank `n-1` given a set of `n` distinct points sampled from the polynomial.\n",
    "\n",
    "The basis of the technique is to find `n` polynomials where each one passed through one and one point only of the sampled data and is zero at all other points, this point is also given a coefficent which is the recipricol of the polynomial evaluated at the x point.\n",
    "\n",
    "To put this more formally:\n",
    "\n",
    "$$P(x)=\\Sigma^{n}_{j=1} P_j (x)$$\n",
    "\n",
    "where:\n",
    "\n",
    "$$P(x)=\\prod^{n}_{k=1,k \\neq j} \\frac{x - x_k}{x_j - x_k} $$\n",
    "\n",
    "### Simplified Example\n",
    "\n",
    "Let's assume that the polynomial we want to recover is:\n",
    "\n",
    "$$\n",
    "p(x)=-x^2+4x-1\n",
    "$$\n",
    "\n",
    "and the samples we have are:\n",
    "\n",
    "| x   | y   |\n",
    "| --- | --- |\n",
    "| 1   | 2   |\n",
    "| 3   | 2   |\n",
    "| 4   | -1  |\n",
    "\n",
    "The Polynomial will be of the dollowing form:\n",
    "\n",
    "$$\n",
    "P(x)=l_1(x)+l_2(x)+l_3(x)\n",
    "$$\n",
    "\n",
    "where $$l_n(x)$$ are the Lagrange polynomials.\n",
    "\n",
    "If we take the first point in the sample `(1,2)`. We first set the other points to be 0 at their x point, i.e. we make them roots.\n",
    "\n",
    "$$\n",
    "l_1(x)=(x-3)(x-4)\n",
    "$$\n",
    "\n",
    "We then evaluate this for the x coordinate at the first point `(1,2)` .\n",
    "\n",
    "$$\n",
    "l_1(1)=6\n",
    "$$\n",
    "\n",
    "We then scale by `y` value of the first point as per the equation. The full Lagrange polynomial is then:\n",
    "\n",
    "$$\n",
    "l_1(x)=y_1\\frac{1}{6}(x-3)(x-4)=\\frac{2}{6}(x-3)(x-4)=\\frac{1}{3}(x-3)(x-4)\n",
    "$$\n",
    "\n",
    "We repeat the process for the other points:\n",
    "\n",
    "$$\n",
    "l_2(x)=-(x-1)(x-4)\n",
    "$$\n",
    "\n",
    "$$\n",
    "l_3(x)=-\\frac{1}{3}(x-1)(x-3)\n",
    "$$\n",
    "\n",
    "The original polynomial can be reconstructed by summing the lagrange polynomials:\n",
    "\n",
    "$$\n",
    "P(x)=l_1(x)+l_2(x)+l_3(x)=\\frac{1}{3}(x-3)(x-4)-(x-1)(x-4)-\\frac{1}{3}(x-1)(x-3)\n",
    "$$\n",
    "\n",
    "$$\n",
    "\\therefore P(x)=4x-x^2+1\n",
    "$$\n"
   ]
  },
  {
   "cell_type": "code",
   "execution_count": 1,
   "id": "bca5c7a9-37ee-4b64-be2d-252f552f186f",
   "metadata": {
    "tags": []
   },
   "outputs": [
    {
     "name": "stdout",
     "output_type": "stream",
     "text": [
      "The polynomial: 70x^2 + 2x + 1\n"
     ]
    }
   ],
   "source": [
    "import galois as g\n",
    "import numpy as np\n",
    "\n",
    "P = g.GF(71)\n",
    "x = P([0, 1, 2])\n",
    "y = P([1, 2, 1])\n",
    "\n",
    "LAG = g.lagrange_poly(x, y)\n",
    "print(f\"The polynomial: {LAG}\")\n",
    "\n"
   ]
  },
  {
   "cell_type": "code",
   "execution_count": null,
   "id": "08a32835-a434-4d77-b9b3-9c5b98f175df",
   "metadata": {},
   "outputs": [],
   "source": []
  }
 ],
 "metadata": {
  "kernelspec": {
   "display_name": "ZK RareSkills Kernel",
   "language": "python",
   "name": "python-zk"
  },
  "language_info": {
   "codemirror_mode": {
    "name": "ipython",
    "version": 3
   },
   "file_extension": ".py",
   "mimetype": "text/x-python",
   "name": "python",
   "nbconvert_exporter": "python",
   "pygments_lexer": "ipython3",
   "version": "3.10.9"
  }
 },
 "nbformat": 4,
 "nbformat_minor": 5
}
